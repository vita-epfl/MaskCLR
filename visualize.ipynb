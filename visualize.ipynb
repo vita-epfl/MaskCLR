{
 "cells": [
  {
   "cell_type": "code",
   "execution_count": 1,
   "metadata": {},
   "outputs": [],
   "source": [
    "import pickle\n",
    "\n",
    "\n",
    "# datasets/ntu60/Frames/ntu120_openpifpaf_0_6500.pkl\n",
    "# datasets/ntu60/Frames/ntu60_hrnet.pkl\n",
    "\n",
    "with open('datasets/ntu60/Frames/ntu60_hrnet.pkl', 'rb') as f:\n",
    "    x = pickle.load(f)\n",
    "\n",
    "with open('datasets/ntu60/Frames/ntu60_openpifpaf_HQ_fixed2.pkl', 'rb') as f:\n",
    "    x_pifpaf = pickle.load(f)"
   ]
  },
  {
   "cell_type": "code",
   "execution_count": 18,
   "metadata": {},
   "outputs": [
    {
     "data": {
      "text/plain": [
       "' import numpy as np\\nfor item_pifpaf in x_pifpaf[\"annotations\"]:\\n    item_pifpaf[\"keypoint\"][:,:,:,0][item_pifpaf[\"keypoint\"][:,:,:,0]<1] = np.mean(item_pifpaf[\"keypoint\"][:,:,:,0])\\n    item_pifpaf[\"keypoint\"][:,:,:,1][item_pifpaf[\"keypoint\"][:,:,:,1]<1] = np.mean(item_pifpaf[\"keypoint\"][:,:,:,1])\\n\\n\\nwith open(\\'datasets/ntu60/Frames/ntu60_openpifpaf_HQ_fixed.pkl\\', \\'wb\\') as handle:\\n    pickle.dump(x_pifpaf, handle, protocol=pickle.HIGHEST_PROTOCOL) '"
      ]
     },
     "execution_count": 18,
     "metadata": {},
     "output_type": "execute_result"
    }
   ],
   "source": [
    "\"\"\" import numpy as np\n",
    "for item_pifpaf in x_pifpaf[\"annotations\"]:\n",
    "    item_pifpaf[\"keypoint\"][:,:,:,0][item_pifpaf[\"keypoint\"][:,:,:,0]<1] = np.mean(item_pifpaf[\"keypoint\"][:,:,:,0])\n",
    "    item_pifpaf[\"keypoint\"][:,:,:,1][item_pifpaf[\"keypoint\"][:,:,:,1]<1] = np.mean(item_pifpaf[\"keypoint\"][:,:,:,1])\n",
    "\n",
    "\n",
    "with open('datasets/ntu60/Frames/ntu60_openpifpaf_HQ_fixed.pkl', 'wb') as handle:\n",
    "    pickle.dump(x_pifpaf, handle, protocol=pickle.HIGHEST_PROTOCOL) \"\"\""
   ]
  },
  {
   "cell_type": "code",
   "execution_count": 3,
   "metadata": {},
   "outputs": [
    {
     "data": {
      "text/plain": [
       "' import numpy as np\\n\\nfor item_hrnet, item_pifpaf in zip (x[\"annotations\"], x_pifpaf[\"annotations\"]):\\n\\n\\n    #item_pifpaf[\"keypoint\"][item_pifpaf[\"keypoint\"]<1] = item_pifpaf[\"img_shape\"][0] //2\\n    #print (np.min(item_hrnet[\"keypoint\"]), np.min(item_pifpaf[\"keypoint\"]))\\n    diff_x = np.mean(item_pifpaf[\"keypoint\"][:,:,:,0]) - np.mean(item_hrnet[\"keypoint\"][:,:,:,0])\\n    diff_y = np.mean(item_pifpaf[\"keypoint\"][:,:,:,1]) - np.mean(item_hrnet[\"keypoint\"][:,:,:,1])\\n\\n    item_pifpaf[\"keypoint\"][:,:,:,0] -= diff_x\\n    item_pifpaf[\"keypoint\"][:,:,:,1] -= diff_y\\n    \\n    diff = np.mean(item_pifpaf[\"keypoint\"]) - np.mean(item_hrnet[\"keypoint\"])\\n\\n    if diff > 100:\\n        print (item_hrnet[\"keypoint\"].shape, item_pifpaf[\"keypoint\"].shape)\\n        print(item_hrnet[\"frame_dir\"], item_pifpaf[\"frame_dir\"])\\n        break\\n\\nwith open(\\'datasets/ntu60/Frames/ntu60_openpifpaf_HQ_fixed2.pkl\\', \\'wb\\') as handle:\\n    pickle.dump(x_pifpaf, handle, protocol=pickle.HIGHEST_PROTOCOL)  '"
      ]
     },
     "execution_count": 3,
     "metadata": {},
     "output_type": "execute_result"
    }
   ],
   "source": [
    "\"\"\" import numpy as np\n",
    "\n",
    "for item_hrnet, item_pifpaf in zip (x[\"annotations\"], x_pifpaf[\"annotations\"]):\n",
    "\n",
    "\n",
    "    #item_pifpaf[\"keypoint\"][item_pifpaf[\"keypoint\"]<1] = item_pifpaf[\"img_shape\"][0] //2\n",
    "    #print (np.min(item_hrnet[\"keypoint\"]), np.min(item_pifpaf[\"keypoint\"]))\n",
    "    diff_x = np.mean(item_pifpaf[\"keypoint\"][:,:,:,0]) - np.mean(item_hrnet[\"keypoint\"][:,:,:,0])\n",
    "    diff_y = np.mean(item_pifpaf[\"keypoint\"][:,:,:,1]) - np.mean(item_hrnet[\"keypoint\"][:,:,:,1])\n",
    "\n",
    "    item_pifpaf[\"keypoint\"][:,:,:,0] -= diff_x\n",
    "    item_pifpaf[\"keypoint\"][:,:,:,1] -= diff_y\n",
    "    \n",
    "    diff = np.mean(item_pifpaf[\"keypoint\"]) - np.mean(item_hrnet[\"keypoint\"])\n",
    "\n",
    "    if diff > 100:\n",
    "        print (item_hrnet[\"keypoint\"].shape, item_pifpaf[\"keypoint\"].shape)\n",
    "        print(item_hrnet[\"frame_dir\"], item_pifpaf[\"frame_dir\"])\n",
    "        break\n",
    "\n",
    "with open('datasets/ntu60/Frames/ntu60_openpifpaf_HQ_fixed2.pkl', 'wb') as handle:\n",
    "    pickle.dump(x_pifpaf, handle, protocol=pickle.HIGHEST_PROTOCOL)  \"\"\""
   ]
  },
  {
   "cell_type": "code",
   "execution_count": 2,
   "metadata": {},
   "outputs": [],
   "source": [
    "import numpy as np\n",
    "\n",
    "def resample(ori_len, target_len, replay=False, randomness=True):\n",
    "    if replay:\n",
    "        if ori_len > target_len:\n",
    "            st = np.random.randint(ori_len-target_len)\n",
    "            return range(st, st+target_len)  # Random clipping from sequence\n",
    "        else:\n",
    "            return np.array(range(target_len)) % ori_len  # Replay padding\n",
    "    else:\n",
    "        if randomness:\n",
    "            even = np.linspace(0, ori_len, num=target_len, endpoint=False)\n",
    "            if ori_len < target_len:\n",
    "                low = np.floor(even)\n",
    "                high = np.ceil(even)\n",
    "                sel = np.random.randint(2, size=even.shape)\n",
    "                result = np.sort(sel*low+(1-sel)*high)\n",
    "            else:\n",
    "                interval = even[1] - even[0]\n",
    "                result = np.random.random(even.shape)*interval + even\n",
    "            result = np.clip(result, a_min=0, a_max=ori_len-1).astype(np.uint32)\n",
    "        else:\n",
    "            result = np.linspace(0, ori_len, num=target_len, endpoint=False, dtype=int)\n",
    "        return result\n",
    "\n",
    "def fake(motion):\n",
    "    if motion.shape[0]==1:                                  # Single person, make a fake zero person\n",
    "        fake = np.zeros(motion.shape)\n",
    "        motion = np.concatenate((motion, fake), axis=0)\n",
    "    \n",
    "    return motion\n",
    "\n",
    "for item_hrnet, item_pifpaf in zip (x[\"annotations\"], x_pifpaf[\"annotations\"]):\n",
    "\n",
    "    if item_pifpaf[\"keypoint\"].shape[1] != item_hrnet[\"keypoint\"].shape[1]:\n",
    "        target_len = item_hrnet[\"keypoint\"].shape[1]\n",
    "\n",
    "        resample_id = resample(ori_len=item_pifpaf['total_frames'], target_len=target_len, randomness=False)\n",
    "        #item_hrnet = resample(ori_len=item_hrnet['total_frames'], target_len=243, randomness=False)\n",
    "\n",
    "        item_pifpaf[\"keypoint\"] = item_pifpaf[\"keypoint\"][:,resample_id]\n",
    "        item_pifpaf[\"keypoint_score\"] = item_pifpaf[\"keypoint_score\"][:,resample_id]\n",
    "        #item_hrnet[\"keypoint\"] = item_hrnet[\"keypoint\"][:,resample_id]\n",
    "\n",
    "\n",
    "    if item_pifpaf[\"keypoint\"].shape[0]==1 and item_hrnet[\"keypoint\"].shape[0]==2:                                  # Single person, make a fake zero person\n",
    "        item_pifpaf[\"keypoint\"] =fake(item_pifpaf[\"keypoint\"])\n",
    "        item_pifpaf[\"keypoint_score\"] =fake(item_pifpaf[\"keypoint_score\"])\n",
    "\n",
    "    #item_pifpaf[\"keypoint\"] =fake(item_pifpaf[\"keypoint\"])\n",
    "    #item_hrnet[\"keypoint\"] =fake(item_hrnet[\"keypoint\"])\n",
    "\n",
    "    item_pifpaf[\"keypoint\"][:,:,:,0] -= (item_pifpaf[\"keypoint\"][:,:,:,0] - item_hrnet[\"keypoint\"][:,:,:,0])\n",
    "    item_pifpaf[\"keypoint\"][:,:,:,1] -= (item_pifpaf[\"keypoint\"][:,:,:,1] - item_hrnet[\"keypoint\"][:,:,:,1])\n",
    "\n",
    "\n",
    "with open('datasets/ntu60/Frames/ntu60_openpifpaf_HQ_fixed5.pkl', 'wb') as handle:\n",
    "    pickle.dump(x_pifpaf, handle, protocol=pickle.HIGHEST_PROTOCOL)"
   ]
  },
  {
   "cell_type": "code",
   "execution_count": 23,
   "metadata": {},
   "outputs": [],
   "source": [
    "import numpy as np\n",
    "from matplotlib import pyplot as plt\n",
    "\n",
    "import copy\n",
    "\n",
    "\n",
    "def resample(ori_len, target_len, replay=False, randomness=True):\n",
    "    if replay:\n",
    "        if ori_len > target_len:\n",
    "            st = np.random.randint(ori_len-target_len)\n",
    "            return range(st, st+target_len)  # Random clipping from sequence\n",
    "        else:\n",
    "            return np.array(range(target_len)) % ori_len  # Replay padding\n",
    "    else:\n",
    "        if randomness:\n",
    "            even = np.linspace(0, ori_len, num=target_len, endpoint=False)\n",
    "            if ori_len < target_len:\n",
    "                low = np.floor(even)\n",
    "                high = np.ceil(even)\n",
    "                sel = np.random.randint(2, size=even.shape)\n",
    "                result = np.sort(sel*low+(1-sel)*high)\n",
    "            else:\n",
    "                interval = even[1] - even[0]\n",
    "                result = np.random.random(even.shape)*interval + even\n",
    "            result = np.clip(result, a_min=0, a_max=ori_len-1).astype(np.uint32)\n",
    "        else:\n",
    "            result = np.linspace(0, ori_len, num=target_len, endpoint=False, dtype=int)\n",
    "        return result\n",
    "\n",
    "\n",
    "def make_cam(x, img_shape):\n",
    "    '''\n",
    "        Input: x (M x T x V x C)\n",
    "               img_shape (height, width)\n",
    "    '''\n",
    "\n",
    "    h, w = img_shape\n",
    "    if w >= h:\n",
    "        x_cam = x / w * 2 - 1\n",
    "    else:\n",
    "        x_cam = x / h * 2 - 1\n",
    "    return x_cam\n",
    "\n",
    "def coco2h36m(x):\n",
    "    '''\n",
    "        Input: x (M x T x V x C)\n",
    "        \n",
    "        COCO: {0-nose 1-Leye 2-Reye 3-Lear 4Rear 5-Lsho 6-Rsho 7-Lelb 8-Relb 9-Lwri 10-Rwri 11-Lhip 12-Rhip 13-Lkne 14-Rkne 15-Lank 16-Rank}\n",
    "        \n",
    "        H36M:\n",
    "        0: 'root',\n",
    "        1: 'rhip',\n",
    "        2: 'rkne',\n",
    "        3: 'rank',\n",
    "        4: 'lhip',\n",
    "        5: 'lkne',\n",
    "        6: 'lank',\n",
    "        7: 'belly',\n",
    "        8: 'neck',\n",
    "        9: 'nose',\n",
    "        10: 'head',\n",
    "        11: 'lsho',\n",
    "        12: 'lelb',\n",
    "        13: 'lwri',\n",
    "        14: 'rsho',\n",
    "        15: 'relb',\n",
    "        16: 'rwri'\n",
    "    '''\n",
    "    y = np.zeros(x.shape)\n",
    "    y[:,:,0,:] = (x[:,:,11,:] + x[:,:,12,:]) * 0.5\n",
    "    y[:,:,1,:] = x[:,:,12,:]\n",
    "    y[:,:,2,:] = x[:,:,14,:]\n",
    "    y[:,:,3,:] = x[:,:,16,:]\n",
    "    y[:,:,4,:] = x[:,:,11,:]\n",
    "    y[:,:,5,:] = x[:,:,13,:]\n",
    "    y[:,:,6,:] = x[:,:,15,:]\n",
    "    y[:,:,8,:] = (x[:,:,5,:] + x[:,:,6,:]) * 0.5\n",
    "    y[:,:,7,:] = (y[:,:,0,:] + y[:,:,8,:]) * 0.5\n",
    "    y[:,:,9,:] = x[:,:,0,:]\n",
    "    y[:,:,10,:] = (x[:,:,1,:] + x[:,:,2,:]) * 0.5\n",
    "    y[:,:,11,:] = x[:,:,5,:]\n",
    "    y[:,:,12,:] = x[:,:,7,:]\n",
    "    y[:,:,13,:] = x[:,:,9,:]\n",
    "    y[:,:,14,:] = x[:,:,6,:]\n",
    "    y[:,:,15,:] = x[:,:,8,:]\n",
    "    y[:,:,16,:] = x[:,:,10,:]\n",
    "    return y\n",
    "    \n",
    "def human_tracking(x):\n",
    "    M, T = x.shape[:2]\n",
    "    if M==1:\n",
    "        return x\n",
    "    else:\n",
    "        diff0 = np.sum(np.linalg.norm(x[0,1:] - x[0,:-1], axis=-1), axis=-1)        # (T-1, V, C) -> (T-1)\n",
    "        diff1 = np.sum(np.linalg.norm(x[0,1:] - x[1,:-1], axis=-1), axis=-1)\n",
    "        x_new = np.zeros(x.shape)\n",
    "        sel = np.cumsum(diff0 > diff1) % 2\n",
    "        sel = sel[:,None,None]\n",
    "        x_new[0][0] = x[0][0]\n",
    "        x_new[1][0] = x[1][0]\n",
    "        x_new[0,1:] = x[1,1:] * sel + x[0,1:] * (1-sel)\n",
    "        x_new[1,1:] = x[0,1:] * sel + x[1,1:] * (1-sel)\n",
    "        return x_new\n",
    "\n",
    "def crop_scale(motion, scale_range=[1, 1]):\n",
    "    '''\n",
    "        Motion: [(M), T, 17, 3].\n",
    "        Normalize to [-1, 1]\n",
    "    '''\n",
    "    result = copy.deepcopy(motion)\n",
    "    valid_coords = motion[motion[..., 2]!=0][:,:2]\n",
    "    if len(valid_coords) < 4:\n",
    "        return np.zeros(motion.shape)\n",
    "    \n",
    "    #print(\"more than 4 valid motion records\")\n",
    "\n",
    "    xmin = min(valid_coords[:,0])\n",
    "    xmax = max(valid_coords[:,0])\n",
    "    ymin = min(valid_coords[:,1])\n",
    "    ymax = max(valid_coords[:,1])\n",
    "\n",
    "    #print(\"xmin, xmax, ymin, ymax: \", xmin, xmax, ymin, ymax)\n",
    "\n",
    "    ratio = np.random.uniform(low=scale_range[0], high=scale_range[1], size=1)[0]\n",
    "    scale = max(xmax-xmin, ymax-ymin) * ratio\n",
    "    if scale==0:\n",
    "        return np.zeros(motion.shape)\n",
    "    \n",
    "    #print(\"scale: \", scale)\n",
    "    xs = (xmin+xmax-scale) / 2\n",
    "    ys = (ymin+ymax-scale) / 2\n",
    "\n",
    "    #print(\"xs, ys: \", xs, ys)\n",
    "\n",
    "    #print(\"x mean 1: \", (motion[0,0,10, 0]))\n",
    "\n",
    "    result[...,:2] = (motion[..., :2]- [xs,ys]) / scale\n",
    "\n",
    "    #print(\"x mean 2: \", (result[0,0,10, 0]))\n",
    "\n",
    "    #print(\"x print: \", ((result[0,0,10, 0])+1)/2)\n",
    "\n",
    "    result[...,:2] = (result[..., :2] - 0.5) * 2\n",
    "\n",
    "    result = np.clip(result, -1, 1)\n",
    "    return result\n",
    "\n",
    "def preprocess_data(ann, num_segments, is_train, noise = False, scale_range= [1,3]):\n",
    "\n",
    "    sample = copy.deepcopy(ann)\n",
    "\n",
    "    resample_id = resample(ori_len=sample['total_frames'], target_len=num_segments, randomness=is_train)\n",
    "\n",
    "    #print(\"sample['keypoint'].shape 1: \" ,sample['keypoint'].shape)\n",
    "    # resample_id (48,)\n",
    "    # Before make_cam (1, 103, 17, 2)\n",
    "    sample['keypoint'] = sample['keypoint'].astype(np.float16)\n",
    "\n",
    "    motion_cam = make_cam(x=sample['keypoint'], img_shape=sample['img_shape'])\n",
    "\n",
    "    #motion_cam[:,:,:,0][motion_cam[:,:,:,0]<0] = np.mean(motion_cam[:,:,:,0])\n",
    "    #motion_cam[:,:,:,1][motion_cam[:,:,:,1]<-0.99] = np.mean(motion_cam[:,:,:,1])\n",
    "    # After make_cam (1, 103, 17, 2)\n",
    "\n",
    "    if noise:\n",
    "        sigma = 0.003\n",
    "        _, T, V, M = motion_cam.shape\n",
    "        noise = np.random.normal(0, sigma , (T, V, M))\n",
    "        motion_cam[:,:,:,:] += noise\n",
    "        motion_cam = np.clip(motion_cam, -1, 1)\n",
    "    \n",
    "\n",
    "    \n",
    "\n",
    "    motion_cam = human_tracking(motion_cam)\n",
    "    # After human_tracking (1, 103, 17, 2)\n",
    "\n",
    "    motion_cam = coco2h36m(motion_cam)\n",
    "    # After coco2h36m (1, 103, 17, 2)\n",
    "\n",
    "    motion_conf = sample['keypoint_score'][..., None]\n",
    "\n",
    "    #print(\"motion_cam[:,resample_id].shape: \", motion_cam[:,resample_id].shape)\n",
    "    #print(\"motion_conf[:,resample_id].shape: \", motion_conf[:,resample_id].shape)\n",
    "\n",
    "    motion = np.concatenate((motion_cam[:,resample_id], motion_conf[:,resample_id]), axis=-1)\n",
    "    # After sample['keypoint_score'] (1, 48, 17, 3)\n",
    "\n",
    "    if motion.shape[0]==1:                                  # Single person, make a fake zero person\n",
    "        fake = np.zeros(motion.shape)\n",
    "        motion = np.concatenate((motion, fake), axis=0)\n",
    "    \n",
    "    #print(\"sample['keypoint'].shape 2: \" ,sample['keypoint'].shape)\n",
    "    motion = crop_scale(motion, scale_range=scale_range)\n",
    "\n",
    "    #print(\"motion.shape: \", motion.shape)\n",
    "\n",
    "    return motion\n",
    "\n",
    "def show_skeleton(locations):\n",
    "\n",
    "    ntu_categories = ['drink water', 'eat meal/snack', 'brushing teeth', 'brushing hair', 'drop', 'pickup', \n",
    "        'throw', 'sitting down', 'standing up (from sitting position)', 'clapping', 'reading', \n",
    "        'writing', 'tear up paper', 'wear jacket', 'take off jacket', 'wear a shoe', \n",
    "        'take off a shoe', 'wear on glasses', 'take off glasses', 'put on a hat/cap', \n",
    "        'take off a hat/cap', 'cheer up', 'hand waving', 'kicking something', \n",
    "        'reach into pocket', 'hopping (one foot jumping)', 'jump up', \n",
    "        'make a phone call/answer phone', 'playing with phone/tablet', 'typing on a keyboard', \n",
    "        'pointing to something with finger', 'taking a selfie', 'check time (from watch)', \n",
    "        'rub two hands together', 'nod head/bow', 'shake head', 'wipe face', 'salute', \n",
    "        'put the palms together', 'cross hands in front (say stop)', 'sneeze/cough', \n",
    "        'staggering', 'falling', 'touch head (headache)', 'touch chest (stomachache/heart pain)', \n",
    "        'touch back (backache)', 'touch neck (neckache)', 'nausea or vomiting condition', \n",
    "        'use a fan (with hand or paper)/feeling warm', 'punching/slapping other person', \n",
    "        'kicking other person', 'pushing other person', 'pat on back of other person', \n",
    "        'point finger at the other person', 'hugging other person', \n",
    "        'giving something to other person', \"touch other person's pocket\", 'handshaking', \n",
    "        'walking towards each other', 'walking apart from each other']\n",
    "\n",
    "\n",
    "    locations = locations[:,:,:,:2]\n",
    "    locations = (locations + 1) / 2\n",
    "\n",
    "    M, T, V, C = locations.shape \n",
    "\n",
    "\n",
    "    connecting_joint = np.array([8, 1, 2, 3,1,5,6,9,10,11,10,9,12,13,9,15,16])\n",
    "\n",
    "    m=0\n",
    "    t=0\n",
    "\n",
    "    x = locations[m,t,:,0]  # (C,T,J,M)  #M, T, V, C \n",
    "\n",
    "    print(\"head: \", locations[m,t,10,0])\n",
    "\n",
    "    y = 1 - locations[m,t,:,1]\n",
    "\n",
    "    #print(M,t,x,y)\n",
    "    plt.figure(figsize=(8, 6))\n",
    "    plt.cla()\n",
    "    #plt.xlim(-50, 2000)\n",
    "    #plt.ylim(-50, 1100)\n",
    "\n",
    "    plt.xlim(0, 1)\n",
    "    plt.ylim(0, 1)\n",
    "    col = []\n",
    "\n",
    "    bad_indices = []\n",
    "    for v in range(V):\n",
    "\n",
    "        g = 0.125\n",
    "        b = 0.941#1-r\n",
    "        r = 0.627\n",
    "\n",
    "        \n",
    "        k = connecting_joint[v] - 1\n",
    "\n",
    "        \n",
    "        bad_numbers = [0, 0.5]\n",
    "        \n",
    "        if (x[v] in bad_numbers and y[v] in bad_numbers) or y[v] == 0 or (x[k] in bad_numbers and y[k] in bad_numbers):\n",
    "            r = g= b = 1\n",
    "            #x[v] = y[v] = 0\n",
    "            #x = np.delete(x, v)\n",
    "            #y = np.delete(y, v)\n",
    "\n",
    "            bad_indices.append(v)\n",
    "            continue\n",
    "        \n",
    "        col.append([r, g, b])\n",
    "        plt.plot([x[v],x[k]], [y[v],y[k]], '-o', c=(0.1,0.1,0.1), linewidth=0.8, markersize=0)\n",
    "        \n",
    "    x = np.delete(x, bad_indices)\n",
    "    y = np.delete(y, bad_indices)\n",
    "    plt.scatter(x, y, marker='o', c=col, s=32)\n",
    "    plt.show()\n",
    "        "
   ]
  },
  {
   "cell_type": "code",
   "execution_count": 31,
   "metadata": {},
   "outputs": [],
   "source": [
    "ann_hrnet = next(item for item in x[\"annotations\"] if item[\"frame_dir\"] == \"S001C001P001R001A017\") \n",
    "ann_pifpaf = next(item for item in x_pifpaf[\"annotations\"] if item[\"frame_dir\"] == \"S001C001P001R001A017\") "
   ]
  },
  {
   "cell_type": "code",
   "execution_count": 34,
   "metadata": {},
   "outputs": [
    {
     "name": "stdout",
     "output_type": "stream",
     "text": [
      "head:  0.5704533064523943\n"
     ]
    },
    {
     "data": {
      "image/png": "[encoded data removed]",
      "text/plain": [
       "<Figure size 800x600 with 1 Axes>"
      ]
     },
     "metadata": {},
     "output_type": "display_data"
    },
    {
     "name": "stdout",
     "output_type": "stream",
     "text": [
      "head:  0.521979561202286\n"
     ]
    },
    {
     "data": {
      "image/png": "[encoded data removed]",
      "text/plain": [
       "<Figure size 800x600 with 1 Axes>"
      ]
     },
     "metadata": {},
     "output_type": "display_data"
    }
   ],
   "source": [
    "\n",
    "#ann_hrnet = x[\"annotations\"][-1200]\n",
    "skeleton_hrnet = preprocess_data(ann_hrnet, 120, False, noise = False, scale_range=[1,3])\n",
    "show_skeleton(skeleton_hrnet)\n",
    "\n",
    "#ann_pifpaf = x_pifpaf[\"annotations\"][-1200]\n",
    "skeleton_pifpaf = preprocess_data(ann_pifpaf, 120, False, noise = False, scale_range=[1,3])\n",
    "show_skeleton(skeleton_pifpaf)"
   ]
  },
  {
   "cell_type": "code",
   "execution_count": 243,
   "metadata": {},
   "outputs": [
    {
     "data": {
      "text/plain": [
       "1048.0"
      ]
     },
     "execution_count": 243,
     "metadata": {},
     "output_type": "execute_result"
    }
   ],
   "source": [
    "(ann_hrnet[\"keypoint\"][0,0,10,0])"
   ]
  },
  {
   "cell_type": "code",
   "execution_count": 244,
   "metadata": {},
   "outputs": [
    {
     "data": {
      "text/plain": [
       "1048.0"
      ]
     },
     "execution_count": 244,
     "metadata": {},
     "output_type": "execute_result"
    }
   ],
   "source": [
    "(ann_pifpaf[\"keypoint\"][0,0,10,0])"
   ]
  },
  {
   "cell_type": "code",
   "execution_count": 241,
   "metadata": {},
   "outputs": [],
   "source": [
    "ann_pifpaf[\"keypoint\"][:,:,:,0] -= (ann_pifpaf[\"keypoint\"][:,:,:,0] - ann_hrnet[\"keypoint\"][:,:,:,0])"
   ]
  },
  {
   "cell_type": "code",
   "execution_count": 112,
   "metadata": {},
   "outputs": [
    {
     "name": "stdout",
     "output_type": "stream",
     "text": [
      "0.14989116756405887\n",
      "0.22568978783577304\n"
     ]
    }
   ],
   "source": [
    "print(np.mean(skeleton_hrnet))\n",
    "\n",
    "print(np.mean(skeleton_pifpaf))"
   ]
  },
  {
   "cell_type": "code",
   "execution_count": 25,
   "metadata": {},
   "outputs": [
    {
     "data": {
      "text/plain": [
       "947.5"
      ]
     },
     "execution_count": 25,
     "metadata": {},
     "output_type": "execute_result"
    }
   ],
   "source": [
    "np.min(ann_hrnet['keypoint'][:,:,:,0])"
   ]
  },
  {
   "cell_type": "code",
   "execution_count": 26,
   "metadata": {},
   "outputs": [
    {
     "data": {
      "text/plain": [
       "768.0"
      ]
     },
     "execution_count": 26,
     "metadata": {},
     "output_type": "execute_result"
    }
   ],
   "source": [
    "np.min(ann_pifpaf['keypoint'][:,:,:,0])#ann_pifpaf['keypoint'][0][0]#.astype(np.float16)"
   ]
  },
  {
   "cell_type": "code",
   "execution_count": 185,
   "metadata": {},
   "outputs": [
    {
     "data": {
      "text/plain": [
       "array([False,  True])"
      ]
     },
     "execution_count": 185,
     "metadata": {},
     "output_type": "execute_result"
    }
   ],
   "source": [
    "\n",
    "np.unique(ann_pifpaf['keypoint'][:,:,:,0] == 540.0)\n",
    "\n"
   ]
  },
  {
   "cell_type": "code",
   "execution_count": 52,
   "metadata": {},
   "outputs": [
    {
     "name": "stdout",
     "output_type": "stream",
     "text": [
      "412.0 1100.0\n",
      "424.5 1262.0\n"
     ]
    }
   ],
   "source": [
    "print(np.min(ann_hrnet['keypoint']), np.max(ann_hrnet['keypoint']))\n",
    "print(np.min(ann_pifpaf['keypoint']), np.max(ann_pifpaf['keypoint']))"
   ]
  },
  {
   "cell_type": "code",
   "execution_count": 195,
   "metadata": {},
   "outputs": [
    {
     "name": "stdout",
     "output_type": "stream",
     "text": [
      "(1, 82, 17, 2)\n",
      "[-0.6619792  -0.6617187  -0.659375   -0.6585938  -0.65729165 -0.65703124\n",
      " -0.6567708  -0.6546875  -0.65442705 -0.6541667  -0.6539062  -0.6528646\n",
      " -0.65260416 -0.65234375 -0.65208334 -0.6518229  -0.65026045 -0.6497396\n",
      " -0.64947915 -0.6481771  -0.6479167  -0.64765626 -0.64739585 -0.6471354\n",
      " -0.6453125  -0.6450521  -0.6432291  -0.6408854  -0.640625   -0.6403646\n",
      " -0.6390625  -0.63880205 -0.6385417  -0.6377604  -0.6359375  -0.6049479\n",
      " -0.6044271  -0.603125   -0.6028646  -0.60234374 -0.6018229  -0.6013021\n",
      " -0.6010417  -0.60052085 -0.6002604  -0.6        -0.5994792  -0.5986979\n",
      " -0.5981771  -0.59791666 -0.59765625 -0.5971354  -0.596875   -0.5966146\n",
      " -0.5958333  -0.5953125  -0.5950521  -0.5942708  -0.59375    -0.5932292\n",
      " -0.5546875  -0.55390626 -0.5533854  -0.5502604  -0.5494791  -0.54869795\n",
      " -0.5481771  -0.5473958  -0.5471354  -0.5463542  -0.54583335 -0.54505205\n",
      " -0.5445312  -0.5442709  -0.54375    -0.5424479  -0.5411458  -0.540625\n",
      " -0.5403646  -0.53984374 -0.5390625  -0.53802085 -0.5375     -0.5367187\n",
      " -0.5359375  -0.53541666 -0.53515625 -0.5346354  -0.5338541  -0.5333333\n",
      " -0.5325521  -0.53203124 -0.5317708  -0.5315104  -0.5307292  -0.5278646\n",
      " -0.52708334 -0.5263021  -0.5255208  -0.525      -0.52421874 -0.5239583\n",
      " -0.5234375  -0.5231771  -0.52265626 -0.52239585 -0.521875   -0.5213542\n",
      " -0.5210937  -0.51953125 -0.4690104  -0.46796876 -0.4669271  -0.465625\n",
      " -0.46458334 -0.4635417  -0.46249998 -0.4609375  -0.45989585 -0.45885414\n",
      " -0.4578125  -0.3703125  -0.3697917  -0.36874998 -0.36822915 -0.36770833\n",
      " -0.36666667 -0.36614585 -0.36510414 -0.3645833  -0.3640625  -0.2838542\n",
      " -0.28333336 -0.28177083 -0.28125    -0.28072917 -0.28020835 -0.27916664\n",
      " -0.2786458  -0.2765625  -0.2760417  -0.27447915 -0.27395833 -0.27291667\n",
      " -0.27239585 -0.27187502 -0.26927084]\n"
     ]
    }
   ],
   "source": [
    "\n",
    "motion = make_cam(x=ann_hrnet['keypoint'], img_shape=ann_hrnet['img_shape'])\n",
    "print(motion.shape)\n",
    "print(np.unique(motion[:,:,:,1]))\n",
    "\n"
   ]
  },
  {
   "cell_type": "code",
   "execution_count": 198,
   "metadata": {},
   "outputs": [
    {
     "name": "stdout",
     "output_type": "stream",
     "text": [
      "[-0.6591948  -0.6590077  -0.65868694 ... -0.2745301  -0.27451575\n",
      " -0.27426106]\n"
     ]
    }
   ],
   "source": [
    "motion = make_cam(x=ann_pifpaf['keypoint'], img_shape=ann_pifpaf['img_shape'])\n",
    "\n",
    "motion[:,:,:,0][motion[:,:,:,0]<0] = np.mean(motion[:,:,:,0])\n",
    "motion[:,:,:,1][motion[:,:,:,1]<-0.99] = np.mean(motion[:,:,:,1])\n",
    "\n",
    "print(np.unique(motion[:,:,:,1]))"
   ]
  },
  {
   "cell_type": "code",
   "execution_count": 61,
   "metadata": {},
   "outputs": [
    {
     "data": {
      "text/plain": [
       "(1, 82, 17, 2)"
      ]
     },
     "execution_count": 61,
     "metadata": {},
     "output_type": "execute_result"
    }
   ],
   "source": [
    "ann_pifpaf['keypoint'].shape"
   ]
  },
  {
   "cell_type": "code",
   "execution_count": 62,
   "metadata": {},
   "outputs": [
    {
     "name": "stdout",
     "output_type": "stream",
     "text": [
      "324.5 1099.0\n"
     ]
    }
   ],
   "source": [
    "print(np.min(ann_hrnet['keypoint']), np.max(ann_pifpaf['keypoint']))"
   ]
  },
  {
   "cell_type": "code",
   "execution_count": 5,
   "metadata": {},
   "outputs": [],
   "source": [
    "import numpy as np\n",
    "\n",
    "def fake(motion):\n",
    "    if motion.shape[0]==1:                                  # Single person, make a fake zero person\n",
    "        fake = np.zeros(motion.shape)\n",
    "        motion = np.concatenate((motion, fake), axis=0)\n",
    "    \n",
    "    return motion\n",
    "\n",
    "for item_hrnet, item_pifpaf in zip (x[\"annotations\"], x_pifpaf[\"annotations\"]):\n",
    "\n",
    "    resample_id = resample(ori_len=item_pifpaf['total_frames'], target_len=243, randomness=False)\n",
    "    #item_hrnet = resample(ori_len=item_hrnet['total_frames'], target_len=243, randomness=False)\n",
    "\n",
    "    item_pifpaf[\"keypoint\"] = item_pifpaf[\"keypoint\"][:,resample_id]\n",
    "    item_hrnet[\"keypoint\"] = item_hrnet[\"keypoint\"][:,resample_id]\n",
    "\n",
    "\n",
    "    if item_pifpaf[\"keypoint\"].shape[0]==1 and item_hrnet[\"keypoint\"].shape[0]==2:                                  # Single person, make a fake zero person\n",
    "        item_pifpaf[\"keypoint\"] =fake(item_pifpaf[\"keypoint\"])\n",
    "        item_pifpaf[\"keypoint_score\"] =fake(item_pifpaf[\"keypoint_score\"])\n",
    "\n",
    "    #item_pifpaf[\"keypoint\"] =fake(item_pifpaf[\"keypoint\"])\n",
    "    #item_hrnet[\"keypoint\"] =fake(item_hrnet[\"keypoint\"])\n",
    "\n",
    "    item_pifpaf[\"keypoint\"][:,:,:,0] -= (item_pifpaf[\"keypoint\"][:,:,:,0] - item_hrnet[\"keypoint\"][:,:,:,0])\n",
    "    #ann_pifpaf[\"keypoint\"][:,:,:,1] -= (ann_pifpaf[\"keypoint\"][:,:,:,1] - ann_hrnet[\"keypoint\"][:,:,:,1])\n",
    "\n",
    "    #item_pifpaf[\"keypoint\"][item_pifpaf[\"keypoint\"]<1] = item_pifpaf[\"img_shape\"][0] //2\n",
    "    #print (np.min(item_hrnet[\"keypoint\"]), np.min(item_pifpaf[\"keypoint\"]))\n",
    "    #diff_x = np.mean(item_pifpaf[\"keypoint\"][:,:,:,0]) - np.mean(item_hrnet[\"keypoint\"][:,:,:,0])\n",
    "    #diff_y = np.mean(item_pifpaf[\"keypoint\"][:,:,:,1]) - np.mean(item_hrnet[\"keypoint\"][:,:,:,1])\n",
    "\n",
    "    \"\"\" item_pifpaf[\"keypoint\"][:,:,:,0] = (item_pifpaf[\"keypoint\"][:,:,:,0] - np.mean(item_hrnet[\"keypoint\"][:,:,:,0])) / np.std(item_hrnet[\"keypoint\"][:,:,:,0])\n",
    "    item_pifpaf[\"keypoint\"][:,:,:,1] = (item_pifpaf[\"keypoint\"][:,:,:,1] - np.mean(item_hrnet[\"keypoint\"][:,:,:,1])) / np.std(item_hrnet[\"keypoint\"][:,:,:,1])\n",
    "    \n",
    "    diff = abs(np.mean(item_pifpaf[\"keypoint\"]) - np.mean(item_hrnet[\"keypoint\"]))\n",
    "\n",
    "    print(diff)\n",
    "\n",
    "    if diff > 100:\n",
    "        print (item_hrnet[\"keypoint\"].shape, item_pifpaf[\"keypoint\"].shape)\n",
    "        print(item_hrnet[\"frame_dir\"], item_pifpaf[\"frame_dir\"])\n",
    "        break \"\"\""
   ]
  },
  {
   "cell_type": "code",
   "execution_count": 2,
   "metadata": {},
   "outputs": [
    {
     "data": {
      "text/plain": [
       "array([[[0.934 , 0.9766, 0.9736, ..., 0.876 , 0.8857, 0.892 ],\n",
       "        [0.9546, 0.993 , 0.989 , ..., 0.877 , 0.9043, 0.9014],\n",
       "        [0.9536, 0.9937, 0.988 , ..., 0.8867, 0.907 , 0.903 ],\n",
       "        ...,\n",
       "        [0.9365, 0.9043, 0.9414, ..., 0.8955, 0.888 , 0.9033],\n",
       "        [0.9585, 0.9385, 0.939 , ..., 0.8984, 0.9126, 0.9146],\n",
       "        [0.9395, 0.904 , 0.9453, ..., 0.898 , 0.8813, 0.886 ]]],\n",
       "      dtype=float16)"
      ]
     },
     "execution_count": 2,
     "metadata": {},
     "output_type": "execute_result"
    }
   ],
   "source": [
    "x[\"annotations\"][0][\"keypoint_score\"]"
   ]
  },
  {
   "cell_type": "code",
   "execution_count": 5,
   "metadata": {},
   "outputs": [
    {
     "data": {
      "text/plain": [
       "array([[[0.999 , 0.992 , 0.9937, ..., 0.8433, 0.9385, 0.788 ],\n",
       "        [0.999 , 0.991 , 0.993 , ..., 0.8945, 0.9473, 0.8506],\n",
       "        [0.999 , 0.991 , 0.9937, ..., 0.8823, 0.9375, 0.818 ],\n",
       "        ...,\n",
       "        [0.913 , 0.9917, 0.9214, ..., 0.9106, 0.9165, 0.879 ],\n",
       "        [0.908 , 0.9917, 0.893 , ..., 0.884 , 0.8413, 0.8486],\n",
       "        [0.9014, 0.991 , 0.925 , ..., 0.746 , 0.867 , 0.793 ]]],\n",
       "      dtype=float16)"
      ]
     },
     "execution_count": 5,
     "metadata": {},
     "output_type": "execute_result"
    }
   ],
   "source": [
    "import numpy as np\n",
    "x_pifpaf[\"annotations\"][0][\"keypoint_score\"].astype(np.float16)"
   ]
  },
  {
   "cell_type": "code",
   "execution_count": 3,
   "metadata": {},
   "outputs": [],
   "source": [
    "with open('datasets/ntu60/Frames/ntu60_openpifpaf_HQ_fixed5.pkl', 'rb') as f:\n",
    "    x_pifpaf = pickle.load(f)"
   ]
  },
  {
   "cell_type": "code",
   "execution_count": 5,
   "metadata": {},
   "outputs": [],
   "source": [
    "for pifpaf_ann in x_pifpaf[\"annotations\"]:\n",
    "\n",
    "    if pifpaf_ann[\"keypoint\"].shape[1]!=pifpaf_ann[\"keypoint_score\"].shape[1]:                                  # Single person, make a fake zero person\n",
    "        \n",
    "        print(pifpaf_ann[\"keypoint\"].shape, pifpaf_ann[\"keypoint_score\"].shape)"
   ]
  }
 ],
 "metadata": {
  "kernelspec": {
   "display_name": "ar",
   "language": "python",
   "name": "python3"
  },
  "language_info": {
   "codemirror_mode": {
    "name": "ipython",
    "version": 3
   },
   "file_extension": ".py",
   "mimetype": "text/x-python",
   "name": "python",
   "nbconvert_exporter": "python",
   "pygments_lexer": "ipython3",
   "version": "3.9.16"
  },
  "orig_nbformat": 4
 },
 "nbformat": 4,
 "nbformat_minor": 2
}
